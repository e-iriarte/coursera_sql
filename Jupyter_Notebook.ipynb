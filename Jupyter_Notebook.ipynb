{
 "cells": [
  {
   "cell_type": "markdown",
   "metadata": {},
   "source": [
    "<center>\n",
    "    <img src=\"https://s3-api.us-geo.objectstorage.softlayer.net/cf-courses-data/CognitiveClass/Logos/organization_logo/organization_logo.png\" width=\"300\" alt=\"cognitiveclass.ai logo\"  />\n",
    "</center>\n"
   ]
  },
  {
   "cell_type": "markdown",
   "metadata": {
    "tags": []
   },
   "source": [
    "# My Jupyter Notebook on IBM Watson Studio"
   ]
  },
  {
   "cell_type": "markdown",
   "metadata": {},
   "source": [
    "**ESTEBAN IRIARTE**\n",
    "\n",
    "Analist Data Science"
   ]
  },
  {
   "cell_type": "markdown",
   "metadata": {},
   "source": [
    "*I'm interested in data science since I was in college, first it was because programing was my strongest subject, and it lead me into the world\n",
    "of data science, especially the area of artificial intelligence which I find so facinating, been able to teach a computer how to think and\n",
    "solve complex problems it was almost like magic when I first started to read about it.*"
   ]
  },
  {
   "cell_type": "markdown",
   "metadata": {},
   "source": [
    "### a way to show a specific quantity of numbers in the fibonacci sequence."
   ]
  },
  {
   "cell_type": "code",
   "execution_count": null,
   "metadata": {},
   "outputs": [],
   "source": [
    "def fib(x):\n",
    "    fib_list = [1, 1]\n",
    "    if x == 1:\n",
    "        return [1]\n",
    "    elif x == 2:\n",
    "        return fib_list\n",
    "    else:\n",
    "        for i in range(x-2):\n",
    "            fib_list.append(fib_list[i] + fib_list[i+1])\n",
    "        return fib_list\n",
    "    \n",
    "print(fib(10))"
   ]
  },
  {
   "cell_type": "markdown",
   "metadata": {},
   "source": [
    "***\n",
    "\n",
    "something in <a href=\"https://www.omfgdogs.com/#\" target=\"_blank\">here</a> ![A random arrow.](https://www.koeitecmoeurope.com/manual/doa6/es/images/button_l/arrow_wh_4_l.png)\n",
    "\n",
    "***"
   ]
  },
  {
   "cell_type": "code",
   "execution_count": null,
   "metadata": {},
   "outputs": [],
   "source": []
  }
 ],
 "metadata": {
  "kernelspec": {
   "display_name": "Python",
   "language": "python",
   "name": "conda-env-python-py"
  },
  "language_info": {
   "codemirror_mode": {
    "name": "ipython",
    "version": 3
   },
   "file_extension": ".py",
   "mimetype": "text/x-python",
   "name": "python",
   "nbconvert_exporter": "python",
   "pygments_lexer": "ipython3",
   "version": "3.7.12"
  }
 },
 "nbformat": 4,
 "nbformat_minor": 4
}
